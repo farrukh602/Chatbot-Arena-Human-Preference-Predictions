{
 "cells": [
  {
   "cell_type": "code",
   "execution_count": 149,
   "id": "2b4ebab0-7186-4e4e-805a-de36871fd069",
   "metadata": {},
   "outputs": [],
   "source": [
    "import pandas as pd\n",
    "import matplotlib.pyplot as plt"
   ]
  },
  {
   "cell_type": "code",
   "execution_count": 12,
   "id": "4cb8f390-2761-4e7b-8f2b-4059361b051b",
   "metadata": {},
   "outputs": [],
   "source": [
    "train = pd.read_csv('train.csv')\n",
    "test=pd.read_csv('test.csv')"
   ]
  },
  {
   "cell_type": "markdown",
   "id": "990dc883-6efb-4e8e-8a87-de8ca353d2e9",
   "metadata": {},
   "source": [
    "## Exploring Data"
   ]
  },
  {
   "cell_type": "code",
   "execution_count": 16,
   "id": "6199304b-d92c-4066-ad32-4367f91ea0ad",
   "metadata": {},
   "outputs": [
    {
     "data": {
      "text/html": [
       "<div>\n",
       "<style scoped>\n",
       "    .dataframe tbody tr th:only-of-type {\n",
       "        vertical-align: middle;\n",
       "    }\n",
       "\n",
       "    .dataframe tbody tr th {\n",
       "        vertical-align: top;\n",
       "    }\n",
       "\n",
       "    .dataframe thead th {\n",
       "        text-align: right;\n",
       "    }\n",
       "</style>\n",
       "<table border=\"1\" class=\"dataframe\">\n",
       "  <thead>\n",
       "    <tr style=\"text-align: right;\">\n",
       "      <th></th>\n",
       "      <th>id</th>\n",
       "      <th>model_a</th>\n",
       "      <th>model_b</th>\n",
       "      <th>prompt</th>\n",
       "      <th>response_a</th>\n",
       "      <th>response_b</th>\n",
       "      <th>winner_model_a</th>\n",
       "      <th>winner_model_b</th>\n",
       "      <th>winner_tie</th>\n",
       "    </tr>\n",
       "  </thead>\n",
       "  <tbody>\n",
       "    <tr>\n",
       "      <th>0</th>\n",
       "      <td>30192</td>\n",
       "      <td>gpt-4-1106-preview</td>\n",
       "      <td>gpt-4-0613</td>\n",
       "      <td>[\"Is it morally right to try to have a certain...</td>\n",
       "      <td>[\"The question of whether it is morally right ...</td>\n",
       "      <td>[\"As an AI, I don't have personal beliefs or o...</td>\n",
       "      <td>1</td>\n",
       "      <td>0</td>\n",
       "      <td>0</td>\n",
       "    </tr>\n",
       "    <tr>\n",
       "      <th>1</th>\n",
       "      <td>53567</td>\n",
       "      <td>koala-13b</td>\n",
       "      <td>gpt-4-0613</td>\n",
       "      <td>[\"What is the difference between marriage lice...</td>\n",
       "      <td>[\"A marriage license is a legal document that ...</td>\n",
       "      <td>[\"A marriage license and a marriage certificat...</td>\n",
       "      <td>0</td>\n",
       "      <td>1</td>\n",
       "      <td>0</td>\n",
       "    </tr>\n",
       "    <tr>\n",
       "      <th>2</th>\n",
       "      <td>65089</td>\n",
       "      <td>gpt-3.5-turbo-0613</td>\n",
       "      <td>mistral-medium</td>\n",
       "      <td>[\"explain function calling. how would you call...</td>\n",
       "      <td>[\"Function calling is the process of invoking ...</td>\n",
       "      <td>[\"Function calling is the process of invoking ...</td>\n",
       "      <td>0</td>\n",
       "      <td>0</td>\n",
       "      <td>1</td>\n",
       "    </tr>\n",
       "    <tr>\n",
       "      <th>3</th>\n",
       "      <td>96401</td>\n",
       "      <td>llama-2-13b-chat</td>\n",
       "      <td>mistral-7b-instruct</td>\n",
       "      <td>[\"How can I create a test set for a very rare ...</td>\n",
       "      <td>[\"Creating a test set for a very rare category...</td>\n",
       "      <td>[\"When building a classifier for a very rare c...</td>\n",
       "      <td>1</td>\n",
       "      <td>0</td>\n",
       "      <td>0</td>\n",
       "    </tr>\n",
       "    <tr>\n",
       "      <th>4</th>\n",
       "      <td>198779</td>\n",
       "      <td>koala-13b</td>\n",
       "      <td>gpt-3.5-turbo-0314</td>\n",
       "      <td>[\"What is the best way to travel from Tel-Aviv...</td>\n",
       "      <td>[\"The best way to travel from Tel Aviv to Jeru...</td>\n",
       "      <td>[\"The best way to travel from Tel-Aviv to Jeru...</td>\n",
       "      <td>0</td>\n",
       "      <td>1</td>\n",
       "      <td>0</td>\n",
       "    </tr>\n",
       "  </tbody>\n",
       "</table>\n",
       "</div>"
      ],
      "text/plain": [
       "       id             model_a              model_b  \\\n",
       "0   30192  gpt-4-1106-preview           gpt-4-0613   \n",
       "1   53567           koala-13b           gpt-4-0613   \n",
       "2   65089  gpt-3.5-turbo-0613       mistral-medium   \n",
       "3   96401    llama-2-13b-chat  mistral-7b-instruct   \n",
       "4  198779           koala-13b   gpt-3.5-turbo-0314   \n",
       "\n",
       "                                              prompt  \\\n",
       "0  [\"Is it morally right to try to have a certain...   \n",
       "1  [\"What is the difference between marriage lice...   \n",
       "2  [\"explain function calling. how would you call...   \n",
       "3  [\"How can I create a test set for a very rare ...   \n",
       "4  [\"What is the best way to travel from Tel-Aviv...   \n",
       "\n",
       "                                          response_a  \\\n",
       "0  [\"The question of whether it is morally right ...   \n",
       "1  [\"A marriage license is a legal document that ...   \n",
       "2  [\"Function calling is the process of invoking ...   \n",
       "3  [\"Creating a test set for a very rare category...   \n",
       "4  [\"The best way to travel from Tel Aviv to Jeru...   \n",
       "\n",
       "                                          response_b  winner_model_a  \\\n",
       "0  [\"As an AI, I don't have personal beliefs or o...               1   \n",
       "1  [\"A marriage license and a marriage certificat...               0   \n",
       "2  [\"Function calling is the process of invoking ...               0   \n",
       "3  [\"When building a classifier for a very rare c...               1   \n",
       "4  [\"The best way to travel from Tel-Aviv to Jeru...               0   \n",
       "\n",
       "   winner_model_b  winner_tie  \n",
       "0               0           0  \n",
       "1               1           0  \n",
       "2               0           1  \n",
       "3               0           0  \n",
       "4               1           0  "
      ]
     },
     "execution_count": 16,
     "metadata": {},
     "output_type": "execute_result"
    }
   ],
   "source": [
    "train.head()"
   ]
  },
  {
   "cell_type": "code",
   "execution_count": 13,
   "id": "fd9db50b-e8fe-41df-a3ed-f69064f882a4",
   "metadata": {},
   "outputs": [
    {
     "data": {
      "text/html": [
       "<div>\n",
       "<style scoped>\n",
       "    .dataframe tbody tr th:only-of-type {\n",
       "        vertical-align: middle;\n",
       "    }\n",
       "\n",
       "    .dataframe tbody tr th {\n",
       "        vertical-align: top;\n",
       "    }\n",
       "\n",
       "    .dataframe thead th {\n",
       "        text-align: right;\n",
       "    }\n",
       "</style>\n",
       "<table border=\"1\" class=\"dataframe\">\n",
       "  <thead>\n",
       "    <tr style=\"text-align: right;\">\n",
       "      <th></th>\n",
       "      <th>id</th>\n",
       "      <th>winner_model_a</th>\n",
       "      <th>winner_model_b</th>\n",
       "      <th>winner_tie</th>\n",
       "    </tr>\n",
       "  </thead>\n",
       "  <tbody>\n",
       "    <tr>\n",
       "      <th>count</th>\n",
       "      <td>5.747700e+04</td>\n",
       "      <td>57477.000000</td>\n",
       "      <td>57477.000000</td>\n",
       "      <td>57477.000000</td>\n",
       "    </tr>\n",
       "    <tr>\n",
       "      <th>mean</th>\n",
       "      <td>2.142564e+09</td>\n",
       "      <td>0.349079</td>\n",
       "      <td>0.341911</td>\n",
       "      <td>0.309011</td>\n",
       "    </tr>\n",
       "    <tr>\n",
       "      <th>std</th>\n",
       "      <td>1.238327e+09</td>\n",
       "      <td>0.476683</td>\n",
       "      <td>0.474354</td>\n",
       "      <td>0.462090</td>\n",
       "    </tr>\n",
       "    <tr>\n",
       "      <th>min</th>\n",
       "      <td>3.019200e+04</td>\n",
       "      <td>0.000000</td>\n",
       "      <td>0.000000</td>\n",
       "      <td>0.000000</td>\n",
       "    </tr>\n",
       "    <tr>\n",
       "      <th>25%</th>\n",
       "      <td>1.071821e+09</td>\n",
       "      <td>0.000000</td>\n",
       "      <td>0.000000</td>\n",
       "      <td>0.000000</td>\n",
       "    </tr>\n",
       "    <tr>\n",
       "      <th>50%</th>\n",
       "      <td>2.133658e+09</td>\n",
       "      <td>0.000000</td>\n",
       "      <td>0.000000</td>\n",
       "      <td>0.000000</td>\n",
       "    </tr>\n",
       "    <tr>\n",
       "      <th>75%</th>\n",
       "      <td>3.211645e+09</td>\n",
       "      <td>1.000000</td>\n",
       "      <td>1.000000</td>\n",
       "      <td>1.000000</td>\n",
       "    </tr>\n",
       "    <tr>\n",
       "      <th>max</th>\n",
       "      <td>4.294947e+09</td>\n",
       "      <td>1.000000</td>\n",
       "      <td>1.000000</td>\n",
       "      <td>1.000000</td>\n",
       "    </tr>\n",
       "  </tbody>\n",
       "</table>\n",
       "</div>"
      ],
      "text/plain": [
       "                 id  winner_model_a  winner_model_b    winner_tie\n",
       "count  5.747700e+04    57477.000000    57477.000000  57477.000000\n",
       "mean   2.142564e+09        0.349079        0.341911      0.309011\n",
       "std    1.238327e+09        0.476683        0.474354      0.462090\n",
       "min    3.019200e+04        0.000000        0.000000      0.000000\n",
       "25%    1.071821e+09        0.000000        0.000000      0.000000\n",
       "50%    2.133658e+09        0.000000        0.000000      0.000000\n",
       "75%    3.211645e+09        1.000000        1.000000      1.000000\n",
       "max    4.294947e+09        1.000000        1.000000      1.000000"
      ]
     },
     "execution_count": 13,
     "metadata": {},
     "output_type": "execute_result"
    }
   ],
   "source": [
    "train.describe()"
   ]
  },
  {
   "cell_type": "markdown",
   "id": "782f084f-e156-436a-a846-b6f016180eee",
   "metadata": {},
   "source": [
    "### Total models, prompts and corresponding responses and duplicates"
   ]
  },
  {
   "cell_type": "code",
   "execution_count": 23,
   "id": "af26a98e-9e38-4fe6-92bd-4598b6a2d75a",
   "metadata": {},
   "outputs": [
    {
     "name": "stdout",
     "output_type": "stream",
     "text": [
      "model_a: 64\n",
      "model_b: 64\n",
      "prompt: 51734\n",
      "response_a: 56566\n",
      "response_b: 56609\n"
     ]
    }
   ],
   "source": [
    "train.model_b.nunique()\n",
    "for col in train.columns:\n",
    "    if train[col].dtype=='O':\n",
    "       print(col + ':',train[col].nunique()) "
   ]
  },
  {
   "cell_type": "markdown",
   "id": "800c6e32-1ad4-4799-a1c1-b63f318bc32d",
   "metadata": {},
   "source": [
    "The number of responses are less than promplts which indicates duplication in responses."
   ]
  },
  {
   "cell_type": "code",
   "execution_count": 34,
   "id": "c2f4983d-fc38-41cd-8139-9bc9bce20516",
   "metadata": {},
   "outputs": [
    {
     "data": {
      "text/plain": [
       "823      [\"I'm not able to help with that, as I'm only ...\n",
       "947                 [\"Hello! How can I assist you today?\"]\n",
       "1035                [\"Hello! How can I assist you today?\"]\n",
       "1100                [\"Hello! How can I assist you today?\"]\n",
       "1243     [\"Hello! How can I help you today? If you have...\n",
       "                               ...                        \n",
       "57388                                                [\"C\"]\n",
       "57440    [\"Sure, here are my answers:\\n\\n1. Disagree\\n2...\n",
       "57449               [\"Hello! How can I assist you today?\"]\n",
       "57464                           [\"Sarah has two sisters.\"]\n",
       "57468    [\"I am trained to understand and respond only ...\n",
       "Name: response_a, Length: 911, dtype: object"
      ]
     },
     "execution_count": 34,
     "metadata": {},
     "output_type": "execute_result"
    }
   ],
   "source": [
    "# Duplicate respones from 'model_a'\n",
    "df[train['response_a'].duplicated()].response_a"
   ]
  },
  {
   "cell_type": "code",
   "execution_count": 37,
   "id": "36ced0ef-6a2e-4cfb-8742-23e5b8ba5c55",
   "metadata": {},
   "outputs": [
    {
     "data": {
      "text/plain": [
       "823      [\"Napoleone Bonaparte (1769-1821) \\u00e8 stato...\n",
       "947                   [\"Hello! How can I help you today?\"]\n",
       "1035                [\"Hello! How can I assist you today?\"]\n",
       "1100     [\"Sure! Here's an example of how you can imple...\n",
       "1243     [\"I don't have a response to random strings of...\n",
       "                               ...                        \n",
       "57388                                    [\"B: The bricks\"]\n",
       "57440    [\"1. Agree\\n2. Agree\\n3. Agree\\n4. Disagree\\n5...\n",
       "57449    [\"It's great to see you again! I'm here to hel...\n",
       "57464                            [\"Sarah has one sister.\"]\n",
       "57468    [\"Here is a possible Bewerbungsanschreiben in ...\n",
       "Name: response_b, Length: 911, dtype: object"
      ]
     },
     "execution_count": 37,
     "metadata": {},
     "output_type": "execute_result"
    }
   ],
   "source": [
    "# Duplicate respones from 'model_b'\n",
    "df[train['response_a'].duplicated()].response_b"
   ]
  },
  {
   "cell_type": "markdown",
   "id": "85e1fc77-0323-44c0-ae5d-8f42791bb42b",
   "metadata": {},
   "source": [
    "## Distribution of target variables\n",
    "We have three target variables: winner_model_a, winner_model_b, winner_tie. We intend to know frequency of the winns of model_a, model_b and ties."
   ]
  },
  {
   "cell_type": "code",
   "execution_count": 54,
   "id": "eb7f895d-c1be-4b9b-8279-3be300431229",
   "metadata": {},
   "outputs": [
    {
     "data": {
      "image/png": "[encoded data removed]",
      "text/plain": [
       "<Figure size 640x480 with 1 Axes>"
      ]
     },
     "metadata": {},
     "output_type": "display_data"
    },
    {
     "name": "stdout",
     "output_type": "stream",
     "text": [
      "winner_model_a    20064\n",
      "winner_model_b    19652\n",
      "winner_tie        17761\n",
      "dtype: int64\n"
     ]
    }
   ],
   "source": [
    "wins = ['wins_model_a', 'wins_model_b','ties']\n",
    "plt.bar(x=wins, height=train[['winner_model_a', 'winner_model_b', 'winner_tie']].sum())\n",
    "plt.ylabel('Counts')\n",
    "plt.show()\n",
    "\n",
    "print(train[['winner_model_a', 'winner_model_b', 'winner_tie']].sum())"
   ]
  },
  {
   "cell_type": "markdown",
   "id": "b3e9b840-a58e-427e-a20f-dbeebbcb203d",
   "metadata": {},
   "source": [
    "## Text Prerpocessing"
   ]
  },
  {
   "cell_type": "code",
   "execution_count": 115,
   "id": "7e4c8d65-db69-4068-8f50-16c3846e1385",
   "metadata": {},
   "outputs": [],
   "source": [
    "import nltk\n",
    "from nltk.corpus import stopwords\n",
    "import string"
   ]
  },
  {
   "cell_type": "code",
   "execution_count": 60,
   "id": "ef49ac79-8d8d-4423-acde-bc0bd188275c",
   "metadata": {},
   "outputs": [
    {
     "data": {
      "text/html": [
       "<div>\n",
       "<style scoped>\n",
       "    .dataframe tbody tr th:only-of-type {\n",
       "        vertical-align: middle;\n",
       "    }\n",
       "\n",
       "    .dataframe tbody tr th {\n",
       "        vertical-align: top;\n",
       "    }\n",
       "\n",
       "    .dataframe thead th {\n",
       "        text-align: right;\n",
       "    }\n",
       "</style>\n",
       "<table border=\"1\" class=\"dataframe\">\n",
       "  <thead>\n",
       "    <tr style=\"text-align: right;\">\n",
       "      <th></th>\n",
       "      <th>id</th>\n",
       "      <th>model_a</th>\n",
       "      <th>model_b</th>\n",
       "      <th>prompt</th>\n",
       "      <th>response_a</th>\n",
       "      <th>response_b</th>\n",
       "      <th>winner_model_a</th>\n",
       "      <th>winner_model_b</th>\n",
       "      <th>winner_tie</th>\n",
       "    </tr>\n",
       "  </thead>\n",
       "  <tbody>\n",
       "    <tr>\n",
       "      <th>0</th>\n",
       "      <td>30192</td>\n",
       "      <td>gpt-4-1106-preview</td>\n",
       "      <td>gpt-4-0613</td>\n",
       "      <td>[\"Is it morally right to try to have a certain...</td>\n",
       "      <td>[\"The question of whether it is morally right ...</td>\n",
       "      <td>[\"As an AI, I don't have personal beliefs or o...</td>\n",
       "      <td>1</td>\n",
       "      <td>0</td>\n",
       "      <td>0</td>\n",
       "    </tr>\n",
       "    <tr>\n",
       "      <th>1</th>\n",
       "      <td>53567</td>\n",
       "      <td>koala-13b</td>\n",
       "      <td>gpt-4-0613</td>\n",
       "      <td>[\"What is the difference between marriage lice...</td>\n",
       "      <td>[\"A marriage license is a legal document that ...</td>\n",
       "      <td>[\"A marriage license and a marriage certificat...</td>\n",
       "      <td>0</td>\n",
       "      <td>1</td>\n",
       "      <td>0</td>\n",
       "    </tr>\n",
       "    <tr>\n",
       "      <th>2</th>\n",
       "      <td>65089</td>\n",
       "      <td>gpt-3.5-turbo-0613</td>\n",
       "      <td>mistral-medium</td>\n",
       "      <td>[\"explain function calling. how would you call...</td>\n",
       "      <td>[\"Function calling is the process of invoking ...</td>\n",
       "      <td>[\"Function calling is the process of invoking ...</td>\n",
       "      <td>0</td>\n",
       "      <td>0</td>\n",
       "      <td>1</td>\n",
       "    </tr>\n",
       "  </tbody>\n",
       "</table>\n",
       "</div>"
      ],
      "text/plain": [
       "      id             model_a         model_b  \\\n",
       "0  30192  gpt-4-1106-preview      gpt-4-0613   \n",
       "1  53567           koala-13b      gpt-4-0613   \n",
       "2  65089  gpt-3.5-turbo-0613  mistral-medium   \n",
       "\n",
       "                                              prompt  \\\n",
       "0  [\"Is it morally right to try to have a certain...   \n",
       "1  [\"What is the difference between marriage lice...   \n",
       "2  [\"explain function calling. how would you call...   \n",
       "\n",
       "                                          response_a  \\\n",
       "0  [\"The question of whether it is morally right ...   \n",
       "1  [\"A marriage license is a legal document that ...   \n",
       "2  [\"Function calling is the process of invoking ...   \n",
       "\n",
       "                                          response_b  winner_model_a  \\\n",
       "0  [\"As an AI, I don't have personal beliefs or o...               1   \n",
       "1  [\"A marriage license and a marriage certificat...               0   \n",
       "2  [\"Function calling is the process of invoking ...               0   \n",
       "\n",
       "   winner_model_b  winner_tie  \n",
       "0               0           0  \n",
       "1               1           0  \n",
       "2               0           1  "
      ]
     },
     "execution_count": 60,
     "metadata": {},
     "output_type": "execute_result"
    }
   ],
   "source": [
    "df.head(3)"
   ]
  },
  {
   "cell_type": "code",
   "execution_count": 150,
   "id": "e94179f9-785b-4392-8fd6-f4e0a2dfa61e",
   "metadata": {},
   "outputs": [],
   "source": [
    "def process_text(text):\n",
    "    # lower case\n",
    "    text = text.lower()\n",
    "    # '\\\\n' character removed:\n",
    "    text=text.replace(\"\\\\n\",\" \" )\n",
    "    # remove punctuation\n",
    "    text = \"\".join([char for char in text if char not in string.punctuation])\n",
    "    # remove digits\n",
    "    text = ''.join([char for char in text if char not in string.digits])\n",
    "    # remove stopwords\n",
    "    stop_words = stopwords.words('english')\n",
    "    words = nltk.word_tokenize(text)\n",
    "    filtered_words =[word for word in words if word not in stop_words]\n",
    "    filtered_text = \" \".join(filtered_words)\n",
    "    return filtered_text\n",
    "\n",
    "# applying the processing techniques\n",
    "train['prompt'] = train['prompt'].apply(process_text)\n",
    "train['response_a'] = train['response_a'].apply(process_text)\n",
    "train['response_b'] = train['response_b'].apply(process_text)\n"
   ]
  },
  {
   "cell_type": "code",
   "execution_count": 152,
   "id": "6e3521a9-685e-4e59-84f5-813ad82d77a6",
   "metadata": {},
   "outputs": [],
   "source": [
    "# pickling the dataframe\n",
    "train.to_pickle('train.pkl')"
   ]
  },
  {
   "cell_type": "code",
   "execution_count": null,
   "id": "b42c93d4-21af-4c8e-8d90-e2148e28b89c",
   "metadata": {},
   "outputs": [],
   "source": []
  }
 ],
 "metadata": {
  "kernelspec": {
   "display_name": "Python 3 (ipykernel)",
   "language": "python",
   "name": "python3"
  },
  "language_info": {
   "codemirror_mode": {
    "name": "ipython",
    "version": 3
   },
   "file_extension": ".py",
   "mimetype": "text/x-python",
   "name": "python",
   "nbconvert_exporter": "python",
   "pygments_lexer": "ipython3",
   "version": "3.12.2"
  }
 },
 "nbformat": 4,
 "nbformat_minor": 5
}
