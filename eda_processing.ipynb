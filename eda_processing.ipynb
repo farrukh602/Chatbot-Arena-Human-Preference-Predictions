{
 "cells": [
  {
   "cell_type": "markdown",
   "id": "4b45332c",
   "metadata": {
    "papermill": {
     "duration": 0.005045,
     "end_time": "2024-05-19T07:21:20.875258",
     "exception": false,
     "start_time": "2024-05-19T07:21:20.870213",
     "status": "completed"
    },
    "tags": []
   },
   "source": [
    "I have followed the exploratory data analysis (EDA) and text processing techniques outlined in [this notebook](https://www.kaggle.com/code/ahsuna123/research-book-data-visualization) for my analysis.\n"
   ]
  },
  {
   "cell_type": "code",
   "execution_count": 1,
   "id": "eb67da99",
   "metadata": {
    "execution": {
     "iopub.execute_input": "2024-05-19T07:21:20.886240Z",
     "iopub.status.busy": "2024-05-19T07:21:20.885605Z",
     "iopub.status.idle": "2024-05-19T07:21:21.601232Z",
     "shell.execute_reply": "2024-05-19T07:21:21.600293Z"
    },
    "papermill": {
     "duration": 0.723596,
     "end_time": "2024-05-19T07:21:21.603633",
     "exception": false,
     "start_time": "2024-05-19T07:21:20.880037",
     "status": "completed"
    },
    "tags": []
   },
   "outputs": [],
   "source": [
    "import pandas as pd\n",
    "import matplotlib.pyplot as plt"
   ]
  },
  {
   "cell_type": "code",
   "execution_count": 2,
   "id": "f93bbdca",
   "metadata": {
    "execution": {
     "iopub.execute_input": "2024-05-19T07:21:21.614220Z",
     "iopub.status.busy": "2024-05-19T07:21:21.613839Z",
     "iopub.status.idle": "2024-05-19T07:21:24.836312Z",
     "shell.execute_reply": "2024-05-19T07:21:24.835510Z"
    },
    "papermill": {
     "duration": 3.230249,
     "end_time": "2024-05-19T07:21:24.838679",
     "exception": false,
     "start_time": "2024-05-19T07:21:21.608430",
     "status": "completed"
    },
    "tags": []
   },
   "outputs": [],
   "source": [
    "train = pd.read_csv('/kaggle/input/lmsys-chatbot-arena/train.csv')\n",
    "test=pd.read_csv('/kaggle/input/lmsys-chatbot-arena/test.csv')"
   ]
  },
  {
   "cell_type": "markdown",
   "id": "afd734e5",
   "metadata": {
    "papermill": {
     "duration": 0.004445,
     "end_time": "2024-05-19T07:21:24.848076",
     "exception": false,
     "start_time": "2024-05-19T07:21:24.843631",
     "status": "completed"
    },
    "tags": []
   },
   "source": [
    "## Exploring Data"
   ]
  },
  {
   "cell_type": "code",
   "execution_count": 3,
   "id": "6f2a45db",
   "metadata": {
    "execution": {
     "iopub.execute_input": "2024-05-19T07:21:24.859301Z",
     "iopub.status.busy": "2024-05-19T07:21:24.858351Z",
     "iopub.status.idle": "2024-05-19T07:21:24.879947Z",
     "shell.execute_reply": "2024-05-19T07:21:24.878998Z"
    },
    "papermill": {
     "duration": 0.029282,
     "end_time": "2024-05-19T07:21:24.881934",
     "exception": false,
     "start_time": "2024-05-19T07:21:24.852652",
     "status": "completed"
    },
    "tags": []
   },
   "outputs": [
    {
     "data": {
      "text/html": [
       "<div>\n",
       "<style scoped>\n",
       "    .dataframe tbody tr th:only-of-type {\n",
       "        vertical-align: middle;\n",
       "    }\n",
       "\n",
       "    .dataframe tbody tr th {\n",
       "        vertical-align: top;\n",
       "    }\n",
       "\n",
       "    .dataframe thead th {\n",
       "        text-align: right;\n",
       "    }\n",
       "</style>\n",
       "<table border=\"1\" class=\"dataframe\">\n",
       "  <thead>\n",
       "    <tr style=\"text-align: right;\">\n",
       "      <th></th>\n",
       "      <th>id</th>\n",
       "      <th>model_a</th>\n",
       "      <th>model_b</th>\n",
       "      <th>prompt</th>\n",
       "      <th>response_a</th>\n",
       "      <th>response_b</th>\n",
       "      <th>winner_model_a</th>\n",
       "      <th>winner_model_b</th>\n",
       "      <th>winner_tie</th>\n",
       "    </tr>\n",
       "  </thead>\n",
       "  <tbody>\n",
       "    <tr>\n",
       "      <th>0</th>\n",
       "      <td>30192</td>\n",
       "      <td>gpt-4-1106-preview</td>\n",
       "      <td>gpt-4-0613</td>\n",
       "      <td>[\"Is it morally right to try to have a certain...</td>\n",
       "      <td>[\"The question of whether it is morally right ...</td>\n",
       "      <td>[\"As an AI, I don't have personal beliefs or o...</td>\n",
       "      <td>1</td>\n",
       "      <td>0</td>\n",
       "      <td>0</td>\n",
       "    </tr>\n",
       "    <tr>\n",
       "      <th>1</th>\n",
       "      <td>53567</td>\n",
       "      <td>koala-13b</td>\n",
       "      <td>gpt-4-0613</td>\n",
       "      <td>[\"What is the difference between marriage lice...</td>\n",
       "      <td>[\"A marriage license is a legal document that ...</td>\n",
       "      <td>[\"A marriage license and a marriage certificat...</td>\n",
       "      <td>0</td>\n",
       "      <td>1</td>\n",
       "      <td>0</td>\n",
       "    </tr>\n",
       "    <tr>\n",
       "      <th>2</th>\n",
       "      <td>65089</td>\n",
       "      <td>gpt-3.5-turbo-0613</td>\n",
       "      <td>mistral-medium</td>\n",
       "      <td>[\"explain function calling. how would you call...</td>\n",
       "      <td>[\"Function calling is the process of invoking ...</td>\n",
       "      <td>[\"Function calling is the process of invoking ...</td>\n",
       "      <td>0</td>\n",
       "      <td>0</td>\n",
       "      <td>1</td>\n",
       "    </tr>\n",
       "    <tr>\n",
       "      <th>3</th>\n",
       "      <td>96401</td>\n",
       "      <td>llama-2-13b-chat</td>\n",
       "      <td>mistral-7b-instruct</td>\n",
       "      <td>[\"How can I create a test set for a very rare ...</td>\n",
       "      <td>[\"Creating a test set for a very rare category...</td>\n",
       "      <td>[\"When building a classifier for a very rare c...</td>\n",
       "      <td>1</td>\n",
       "      <td>0</td>\n",
       "      <td>0</td>\n",
       "    </tr>\n",
       "    <tr>\n",
       "      <th>4</th>\n",
       "      <td>198779</td>\n",
       "      <td>koala-13b</td>\n",
       "      <td>gpt-3.5-turbo-0314</td>\n",
       "      <td>[\"What is the best way to travel from Tel-Aviv...</td>\n",
       "      <td>[\"The best way to travel from Tel Aviv to Jeru...</td>\n",
       "      <td>[\"The best way to travel from Tel-Aviv to Jeru...</td>\n",
       "      <td>0</td>\n",
       "      <td>1</td>\n",
       "      <td>0</td>\n",
       "    </tr>\n",
       "  </tbody>\n",
       "</table>\n",
       "</div>"
      ],
      "text/plain": [
       "       id             model_a              model_b  \\\n",
       "0   30192  gpt-4-1106-preview           gpt-4-0613   \n",
       "1   53567           koala-13b           gpt-4-0613   \n",
       "2   65089  gpt-3.5-turbo-0613       mistral-medium   \n",
       "3   96401    llama-2-13b-chat  mistral-7b-instruct   \n",
       "4  198779           koala-13b   gpt-3.5-turbo-0314   \n",
       "\n",
       "                                              prompt  \\\n",
       "0  [\"Is it morally right to try to have a certain...   \n",
       "1  [\"What is the difference between marriage lice...   \n",
       "2  [\"explain function calling. how would you call...   \n",
       "3  [\"How can I create a test set for a very rare ...   \n",
       "4  [\"What is the best way to travel from Tel-Aviv...   \n",
       "\n",
       "                                          response_a  \\\n",
       "0  [\"The question of whether it is morally right ...   \n",
       "1  [\"A marriage license is a legal document that ...   \n",
       "2  [\"Function calling is the process of invoking ...   \n",
       "3  [\"Creating a test set for a very rare category...   \n",
       "4  [\"The best way to travel from Tel Aviv to Jeru...   \n",
       "\n",
       "                                          response_b  winner_model_a  \\\n",
       "0  [\"As an AI, I don't have personal beliefs or o...               1   \n",
       "1  [\"A marriage license and a marriage certificat...               0   \n",
       "2  [\"Function calling is the process of invoking ...               0   \n",
       "3  [\"When building a classifier for a very rare c...               1   \n",
       "4  [\"The best way to travel from Tel-Aviv to Jeru...               0   \n",
       "\n",
       "   winner_model_b  winner_tie  \n",
       "0               0           0  \n",
       "1               1           0  \n",
       "2               0           1  \n",
       "3               0           0  \n",
       "4               1           0  "
      ]
     },
     "execution_count": 3,
     "metadata": {},
     "output_type": "execute_result"
    }
   ],
   "source": [
    "train.head()"
   ]
  },
  {
   "cell_type": "code",
   "execution_count": 4,
   "id": "4684c7f9",
   "metadata": {
    "execution": {
     "iopub.execute_input": "2024-05-19T07:21:24.893251Z",
     "iopub.status.busy": "2024-05-19T07:21:24.892945Z",
     "iopub.status.idle": "2024-05-19T07:21:24.922630Z",
     "shell.execute_reply": "2024-05-19T07:21:24.921724Z"
    },
    "papermill": {
     "duration": 0.037531,
     "end_time": "2024-05-19T07:21:24.924597",
     "exception": false,
     "start_time": "2024-05-19T07:21:24.887066",
     "status": "completed"
    },
    "tags": []
   },
   "outputs": [
    {
     "data": {
      "text/html": [
       "<div>\n",
       "<style scoped>\n",
       "    .dataframe tbody tr th:only-of-type {\n",
       "        vertical-align: middle;\n",
       "    }\n",
       "\n",
       "    .dataframe tbody tr th {\n",
       "        vertical-align: top;\n",
       "    }\n",
       "\n",
       "    .dataframe thead th {\n",
       "        text-align: right;\n",
       "    }\n",
       "</style>\n",
       "<table border=\"1\" class=\"dataframe\">\n",
       "  <thead>\n",
       "    <tr style=\"text-align: right;\">\n",
       "      <th></th>\n",
       "      <th>id</th>\n",
       "      <th>winner_model_a</th>\n",
       "      <th>winner_model_b</th>\n",
       "      <th>winner_tie</th>\n",
       "    </tr>\n",
       "  </thead>\n",
       "  <tbody>\n",
       "    <tr>\n",
       "      <th>count</th>\n",
       "      <td>5.747700e+04</td>\n",
       "      <td>57477.000000</td>\n",
       "      <td>57477.000000</td>\n",
       "      <td>57477.000000</td>\n",
       "    </tr>\n",
       "    <tr>\n",
       "      <th>mean</th>\n",
       "      <td>2.142564e+09</td>\n",
       "      <td>0.349079</td>\n",
       "      <td>0.341911</td>\n",
       "      <td>0.309011</td>\n",
       "    </tr>\n",
       "    <tr>\n",
       "      <th>std</th>\n",
       "      <td>1.238327e+09</td>\n",
       "      <td>0.476683</td>\n",
       "      <td>0.474354</td>\n",
       "      <td>0.462090</td>\n",
       "    </tr>\n",
       "    <tr>\n",
       "      <th>min</th>\n",
       "      <td>3.019200e+04</td>\n",
       "      <td>0.000000</td>\n",
       "      <td>0.000000</td>\n",
       "      <td>0.000000</td>\n",
       "    </tr>\n",
       "    <tr>\n",
       "      <th>25%</th>\n",
       "      <td>1.071821e+09</td>\n",
       "      <td>0.000000</td>\n",
       "      <td>0.000000</td>\n",
       "      <td>0.000000</td>\n",
       "    </tr>\n",
       "    <tr>\n",
       "      <th>50%</th>\n",
       "      <td>2.133658e+09</td>\n",
       "      <td>0.000000</td>\n",
       "      <td>0.000000</td>\n",
       "      <td>0.000000</td>\n",
       "    </tr>\n",
       "    <tr>\n",
       "      <th>75%</th>\n",
       "      <td>3.211645e+09</td>\n",
       "      <td>1.000000</td>\n",
       "      <td>1.000000</td>\n",
       "      <td>1.000000</td>\n",
       "    </tr>\n",
       "    <tr>\n",
       "      <th>max</th>\n",
       "      <td>4.294947e+09</td>\n",
       "      <td>1.000000</td>\n",
       "      <td>1.000000</td>\n",
       "      <td>1.000000</td>\n",
       "    </tr>\n",
       "  </tbody>\n",
       "</table>\n",
       "</div>"
      ],
      "text/plain": [
       "                 id  winner_model_a  winner_model_b    winner_tie\n",
       "count  5.747700e+04    57477.000000    57477.000000  57477.000000\n",
       "mean   2.142564e+09        0.349079        0.341911      0.309011\n",
       "std    1.238327e+09        0.476683        0.474354      0.462090\n",
       "min    3.019200e+04        0.000000        0.000000      0.000000\n",
       "25%    1.071821e+09        0.000000        0.000000      0.000000\n",
       "50%    2.133658e+09        0.000000        0.000000      0.000000\n",
       "75%    3.211645e+09        1.000000        1.000000      1.000000\n",
       "max    4.294947e+09        1.000000        1.000000      1.000000"
      ]
     },
     "execution_count": 4,
     "metadata": {},
     "output_type": "execute_result"
    }
   ],
   "source": [
    "train.describe()"
   ]
  },
  {
   "cell_type": "markdown",
   "id": "71492491",
   "metadata": {
    "papermill": {
     "duration": 0.005215,
     "end_time": "2024-05-19T07:21:24.935251",
     "exception": false,
     "start_time": "2024-05-19T07:21:24.930036",
     "status": "completed"
    },
    "tags": []
   },
   "source": [
    "### Total models, prompts and corresponding responses and duplicates"
   ]
  },
  {
   "cell_type": "code",
   "execution_count": 5,
   "id": "dc199b1d",
   "metadata": {
    "execution": {
     "iopub.execute_input": "2024-05-19T07:21:24.946683Z",
     "iopub.status.busy": "2024-05-19T07:21:24.946409Z",
     "iopub.status.idle": "2024-05-19T07:21:25.366197Z",
     "shell.execute_reply": "2024-05-19T07:21:25.365355Z"
    },
    "papermill": {
     "duration": 0.428103,
     "end_time": "2024-05-19T07:21:25.368717",
     "exception": false,
     "start_time": "2024-05-19T07:21:24.940614",
     "status": "completed"
    },
    "tags": []
   },
   "outputs": [
    {
     "name": "stdout",
     "output_type": "stream",
     "text": [
      "model_a: 64\n",
      "model_b: 64\n",
      "prompt: 51734\n",
      "response_a: 56566\n",
      "response_b: 56609\n"
     ]
    }
   ],
   "source": [
    "train.model_b.nunique()\n",
    "for col in train.columns:\n",
    "    if train[col].dtype=='O':\n",
    "       print(col + ':',train[col].nunique()) "
   ]
  },
  {
   "cell_type": "markdown",
   "id": "82b4aee4",
   "metadata": {
    "papermill": {
     "duration": 0.005206,
     "end_time": "2024-05-19T07:21:25.379859",
     "exception": false,
     "start_time": "2024-05-19T07:21:25.374653",
     "status": "completed"
    },
    "tags": []
   },
   "source": [
    "The number of responses are less than promplts which indicates duplication in responses."
   ]
  },
  {
   "cell_type": "code",
   "execution_count": 6,
   "id": "7f4aeb64",
   "metadata": {
    "execution": {
     "iopub.execute_input": "2024-05-19T07:21:25.391643Z",
     "iopub.status.busy": "2024-05-19T07:21:25.391337Z",
     "iopub.status.idle": "2024-05-19T07:21:25.450940Z",
     "shell.execute_reply": "2024-05-19T07:21:25.450065Z"
    },
    "papermill": {
     "duration": 0.067545,
     "end_time": "2024-05-19T07:21:25.452748",
     "exception": false,
     "start_time": "2024-05-19T07:21:25.385203",
     "status": "completed"
    },
    "tags": []
   },
   "outputs": [
    {
     "name": "stdout",
     "output_type": "stream",
     "text": [
      "823      [\"I'm not able to help with that, as I'm only ...\n",
      "947                 [\"Hello! How can I assist you today?\"]\n",
      "1035                [\"Hello! How can I assist you today?\"]\n",
      "1100                [\"Hello! How can I assist you today?\"]\n",
      "1243     [\"Hello! How can I help you today? If you have...\n",
      "                               ...                        \n",
      "57388                                                [\"C\"]\n",
      "57440    [\"Sure, here are my answers:\\n\\n1. Disagree\\n2...\n",
      "57449               [\"Hello! How can I assist you today?\"]\n",
      "57464                           [\"Sarah has two sisters.\"]\n",
      "57468    [\"I am trained to understand and respond only ...\n",
      "Name: response_a, Length: 911, dtype: object\n"
     ]
    }
   ],
   "source": [
    "# Duplicate respones from 'model_a'\n",
    "print(train[train['response_a'].duplicated()].response_a)"
   ]
  },
  {
   "cell_type": "code",
   "execution_count": 7,
   "id": "f5e25bab",
   "metadata": {
    "execution": {
     "iopub.execute_input": "2024-05-19T07:21:25.465137Z",
     "iopub.status.busy": "2024-05-19T07:21:25.464855Z",
     "iopub.status.idle": "2024-05-19T07:21:25.478409Z",
     "shell.execute_reply": "2024-05-19T07:21:25.477515Z"
    },
    "papermill": {
     "duration": 0.022001,
     "end_time": "2024-05-19T07:21:25.480392",
     "exception": false,
     "start_time": "2024-05-19T07:21:25.458391",
     "status": "completed"
    },
    "tags": []
   },
   "outputs": [
    {
     "name": "stdout",
     "output_type": "stream",
     "text": [
      "823      [\"Napoleone Bonaparte (1769-1821) \\u00e8 stato...\n",
      "947                   [\"Hello! How can I help you today?\"]\n",
      "1035                [\"Hello! How can I assist you today?\"]\n",
      "1100     [\"Sure! Here's an example of how you can imple...\n",
      "1243     [\"I don't have a response to random strings of...\n",
      "                               ...                        \n",
      "57388                                    [\"B: The bricks\"]\n",
      "57440    [\"1. Agree\\n2. Agree\\n3. Agree\\n4. Disagree\\n5...\n",
      "57449    [\"It's great to see you again! I'm here to hel...\n",
      "57464                            [\"Sarah has one sister.\"]\n",
      "57468    [\"Here is a possible Bewerbungsanschreiben in ...\n",
      "Name: response_b, Length: 911, dtype: object\n"
     ]
    }
   ],
   "source": [
    "# Duplicate respones from 'model_b'\n",
    "print(train[train['response_a'].duplicated()].response_b)"
   ]
  },
  {
   "cell_type": "markdown",
   "id": "e2a6ac72",
   "metadata": {
    "papermill": {
     "duration": 0.005318,
     "end_time": "2024-05-19T07:21:25.491430",
     "exception": false,
     "start_time": "2024-05-19T07:21:25.486112",
     "status": "completed"
    },
    "tags": []
   },
   "source": [
    "## Distribution of target variables\n",
    "We have three target variables: winner_model_a, winner_model_b, winner_tie. We intend to know frequency of the winns of model_a, model_b and ties."
   ]
  },
  {
   "cell_type": "code",
   "execution_count": 8,
   "id": "7acc0f3e",
   "metadata": {
    "execution": {
     "iopub.execute_input": "2024-05-19T07:21:25.503404Z",
     "iopub.status.busy": "2024-05-19T07:21:25.503137Z",
     "iopub.status.idle": "2024-05-19T07:21:25.732751Z",
     "shell.execute_reply": "2024-05-19T07:21:25.731914Z"
    },
    "papermill": {
     "duration": 0.238074,
     "end_time": "2024-05-19T07:21:25.734907",
     "exception": false,
     "start_time": "2024-05-19T07:21:25.496833",
     "status": "completed"
    },
    "tags": []
   },
   "outputs": [
    {
     "data": {
      "image/png": "[encoded data removed]",
      "text/plain": [
       "<Figure size 640x480 with 1 Axes>"
      ]
     },
     "metadata": {},
     "output_type": "display_data"
    },
    {
     "name": "stdout",
     "output_type": "stream",
     "text": [
      "winner_model_a    20064\n",
      "winner_model_b    19652\n",
      "winner_tie        17761\n",
      "dtype: int64\n"
     ]
    }
   ],
   "source": [
    "wins = ['wins_model_a', 'wins_model_b','ties']\n",
    "plt.bar(x=wins, height=train[['winner_model_a', 'winner_model_b', 'winner_tie']].sum())\n",
    "plt.ylabel('Counts')\n",
    "plt.show()\n",
    "\n",
    "print(train[['winner_model_a', 'winner_model_b', 'winner_tie']].sum())"
   ]
  },
  {
   "cell_type": "markdown",
   "id": "e54f1445",
   "metadata": {
    "papermill": {
     "duration": 0.005721,
     "end_time": "2024-05-19T07:21:25.747137",
     "exception": false,
     "start_time": "2024-05-19T07:21:25.741416",
     "status": "completed"
    },
    "tags": []
   },
   "source": [
    "## Text Prerpocessing"
   ]
  },
  {
   "cell_type": "code",
   "execution_count": 9,
   "id": "efed81bd",
   "metadata": {
    "execution": {
     "iopub.execute_input": "2024-05-19T07:21:25.760065Z",
     "iopub.status.busy": "2024-05-19T07:21:25.759788Z",
     "iopub.status.idle": "2024-05-19T07:21:27.304234Z",
     "shell.execute_reply": "2024-05-19T07:21:27.303435Z"
    },
    "papermill": {
     "duration": 1.5535,
     "end_time": "2024-05-19T07:21:27.306494",
     "exception": false,
     "start_time": "2024-05-19T07:21:25.752994",
     "status": "completed"
    },
    "tags": []
   },
   "outputs": [],
   "source": [
    "import nltk\n",
    "from nltk.corpus import stopwords\n",
    "import string\n",
    "from tqdm import tqdm"
   ]
  },
  {
   "cell_type": "code",
   "execution_count": 10,
   "id": "6a29fe0d",
   "metadata": {
    "execution": {
     "iopub.execute_input": "2024-05-19T07:21:27.320263Z",
     "iopub.status.busy": "2024-05-19T07:21:27.319974Z",
     "iopub.status.idle": "2024-05-19T07:27:22.775247Z",
     "shell.execute_reply": "2024-05-19T07:27:22.774205Z"
    },
    "papermill": {
     "duration": 355.46486,
     "end_time": "2024-05-19T07:27:22.777911",
     "exception": false,
     "start_time": "2024-05-19T07:21:27.313051",
     "status": "completed"
    },
    "tags": []
   },
   "outputs": [
    {
     "name": "stderr",
     "output_type": "stream",
     "text": [
      "100%|██████████| 57477/57477 [00:50<00:00, 1146.08it/s]\n",
      "100%|██████████| 57477/57477 [02:32<00:00, 377.82it/s]\n",
      "100%|██████████| 57477/57477 [02:33<00:00, 375.30it/s]\n"
     ]
    }
   ],
   "source": [
    "# Create a function to process the text\n",
    "def process_text(text):\n",
    "    # lower case\n",
    "    text = text.lower()\n",
    "    # '\\\\n' character removed:\n",
    "    text=text.replace(\"\\\\n\",\" \" )\n",
    "    # remove punctuation\n",
    "    text = \"\".join([char for char in text if char not in string.punctuation])\n",
    "    # remove digits\n",
    "    text = ''.join([char for char in text if char not in string.digits])\n",
    "    # remove stopwords\n",
    "    stop_words = stopwords.words('english')\n",
    "    words = nltk.word_tokenize(text)\n",
    "    filtered_words =[word for word in words if word not in stop_words]\n",
    "    filtered_text = \" \".join(filtered_words)\n",
    "    return filtered_text\n",
    "\n",
    "# applying the processing techniques\n",
    "tqdm.pandas()\n",
    "train['prompt'] = train['prompt'].progress_apply(process_text)\n",
    "train['response_a'] = train['response_a'].progress_apply(process_text)\n",
    "train['response_b'] = train['response_b'].progress_apply(process_text)\n"
   ]
  },
  {
   "cell_type": "code",
   "execution_count": 11,
   "id": "5aeac0c8",
   "metadata": {
    "execution": {
     "iopub.execute_input": "2024-05-19T07:27:23.290711Z",
     "iopub.status.busy": "2024-05-19T07:27:23.289888Z",
     "iopub.status.idle": "2024-05-19T07:27:23.452594Z",
     "shell.execute_reply": "2024-05-19T07:27:23.451728Z"
    },
    "papermill": {
     "duration": 0.422789,
     "end_time": "2024-05-19T07:27:23.455287",
     "exception": false,
     "start_time": "2024-05-19T07:27:23.032498",
     "status": "completed"
    },
    "tags": []
   },
   "outputs": [],
   "source": [
    "# pickling the dataframe\n",
    "train.to_pickle('train.pkl')"
   ]
  },
  {
   "cell_type": "code",
   "execution_count": null,
   "id": "3e9f123a",
   "metadata": {
    "papermill": {
     "duration": 0.252586,
     "end_time": "2024-05-19T07:27:23.973216",
     "exception": false,
     "start_time": "2024-05-19T07:27:23.720630",
     "status": "completed"
    },
    "tags": []
   },
   "outputs": [],
   "source": []
  }
 ],
 "metadata": {
  "kaggle": {
   "accelerator": "none",
   "dataSources": [
    {
     "databundleVersionId": 8346466,
     "sourceId": 66631,
     "sourceType": "competition"
    }
   ],
   "dockerImageVersionId": 30698,
   "isGpuEnabled": false,
   "isInternetEnabled": true,
   "language": "python",
   "sourceType": "notebook"
  },
  "kernelspec": {
   "display_name": "Python 3",
   "language": "python",
   "name": "python3"
  },
  "language_info": {
   "codemirror_mode": {
    "name": "ipython",
    "version": 3
   },
   "file_extension": ".py",
   "mimetype": "text/x-python",
   "name": "python",
   "nbconvert_exporter": "python",
   "pygments_lexer": "ipython3",
   "version": "3.10.13"
  },
  "papermill": {
   "default_parameters": {},
   "duration": 366.573947,
   "end_time": "2024-05-19T07:27:24.745236",
   "environment_variables": {},
   "exception": null,
   "input_path": "__notebook__.ipynb",
   "output_path": "__notebook__.ipynb",
   "parameters": {},
   "start_time": "2024-05-19T07:21:18.171289",
   "version": "2.5.0"
  }
 },
 "nbformat": 4,
 "nbformat_minor": 5
}
